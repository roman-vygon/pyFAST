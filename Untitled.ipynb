{
 "cells": [
  {
   "cell_type": "code",
   "execution_count": 3,
   "metadata": {},
   "outputs": [],
   "source": [
    "enc_app = 'C:\\\\Work\\\\HITSSuperResolution\\\\fast_code_release\\\\utils\\\\matlab_call_hevc_tools\\\\hm\\\\bin\\\\TAppEncoder.exe'\n",
    "cfg_main = 'C:\\\\Work\\\\HITSSuperResolution\\\\fast_code_release\\\\utils\\\\matlab_call_hevc_tools\\\\hm\\\\cfg\\\\encoder_lowdelay_P_main.cfg'\n",
    "cfg_sequence = 'C:\\\\Work\\HITSSuperResolution\\\\fast_code_release\\\\utils\\\\matlab_call_hevc_tools\\\\hm\\\\cfg\\\\per-sequence\\\\calendar.cfg'\n",
    "input_yuv = 'C:\\\\Work\\HITSSuperResolution\\\\fast_code_release\\\\..\\\\temp_data\\\\calendar_352x240_8\\\\calendar_352x240_8.yuv'\n",
    "yuv_recon_name = 'C:\\\\Work\\HITSSuperResolution\\\\fast_code_release\\\\..\\\\temp_data\\\\calendar_352x240_8\\\\calendar_352x240_8_recon.yuv'\n",
    "binary_name = 'C:\\\\Work\\\\HITSSuperResolution\\\\fast_code_release\\\\..\\\\temp_data\\\\calendar_352x240_8\\\\calendar_352x240_8.str'\n",
    "other_arguments = '--FramesToBeEncoded=8 --SourceWidth=352 --QP=27 --SourceHeight=240'"
   ]
  },
  {
   "cell_type": "code",
   "execution_count": 4,
   "metadata": {},
   "outputs": [],
   "source": [
    "enc_command = '%s -c %s -c %s -i %s -o %s -b %s %s' % (enc_app, cfg_main, cfg_sequence, \\\n",
    "                                                       input_yuv, yuv_recon_name, binary_name, \\\n",
    "                                                       other_arguments)"
   ]
  },
  {
   "cell_type": "code",
   "execution_count": 6,
   "metadata": {},
   "outputs": [],
   "source": [
    "import os"
   ]
  },
  {
   "cell_type": "code",
   "execution_count": 7,
   "metadata": {},
   "outputs": [
    {
     "data": {
      "text/plain": [
       "0"
      ]
     },
     "execution_count": 7,
     "metadata": {},
     "output_type": "execute_result"
    }
   ],
   "source": [
    "os.system(enc_command)"
   ]
  },
  {
   "cell_type": "code",
   "execution_count": 14,
   "metadata": {},
   "outputs": [],
   "source": [
    "env_cmd = 'set PRINT_COEFF=1 & set PRINT_INTRA=1 & set PRINT_MV=1 & set SAVE_PREFILT=1 &'\n",
    "enc_app = 'C:\\Work\\HITSSuperResolution\\\\fast_code_release\\\\utils\\\\matlab_call_hevc_tools\\\\hm\\\\bin\\\\TAppDecoder.exe'\n",
    "binary_file = 'C:\\\\Work\\\\HITSSuperResolution\\\\fast_code_release\\\\..\\\\temp_data\\\\calendar_352x240_8\\\\calendar_352x240_8.str'\n",
    "yuv_recon_file = 'C:\\\\Work\\\\HITSSuperResolution\\\\fast_code_release\\\\..\\\\temp_data\\\\calendar_352x240_8\\\\calendar_352x240_8_recon.yuv'\n",
    "dump_txt_name = 'C:\\\\Work\\\\HITSSuperResolution\\\\fast_code_release\\\\..\\\\temp_data\\\\calendar_352x240_8\\\\calendar_352x240_8_dump.txt'"
   ]
  },
  {
   "cell_type": "code",
   "execution_count": 15,
   "metadata": {},
   "outputs": [],
   "source": [
    "dump_cmd = '%s %s -b %s -o %s > %s'% (env_cmd, enc_app, \\\n",
    "    binary_file, yuv_recon_file, dump_txt_name)"
   ]
  },
  {
   "cell_type": "code",
   "execution_count": 16,
   "metadata": {},
   "outputs": [
    {
     "data": {
      "text/plain": [
       "0"
      ]
     },
     "execution_count": 16,
     "metadata": {},
     "output_type": "execute_result"
    }
   ],
   "source": [
    "os.system(dump_cmd)"
   ]
  },
  {
   "cell_type": "code",
   "execution_count": 13,
   "metadata": {},
   "outputs": [
    {
     "data": {
      "text/plain": [
       "'set PRINT_COEFF=1 & set PRINT_INTRA=1 & set PRINT_MV=1 & set SAVE_PREFILT=1 & C:\\\\Work\\\\HITSSuperResolution\\\\fast_code_release\\\\utils\\\\matlab_call_hevc_tools\\\\hm\\x08in\\\\TAppDecoder.exe -b C:\\\\Work\\\\HITSSuperResolution\\\\fast_code_release\\\\..\\\\temp_data\\\\calendar_352x240_8\\\\calendar_352x240_8.str -o C:\\\\Work\\\\HITSSuperResolution\\\\fast_code_release\\\\..\\\\temp_data\\\\calendar_352x240_8\\\\calendar_352x240_8_recon.yuv > C:\\\\Work\\\\HITSSuperResolution\\\\fast_code_release\\\\..\\\\temp_data\\\\calendar_352x240_8\\\\calendar_352x240_8_dump.txt'"
      ]
     },
     "execution_count": 13,
     "metadata": {},
     "output_type": "execute_result"
    }
   ],
   "source": [
    "dump_cmd"
   ]
  },
  {
   "cell_type": "code",
   "execution_count": 84,
   "metadata": {},
   "outputs": [],
   "source": [
    "from libsmop import *\n",
    "\n",
    "def parse_prop(line):\n",
    "    prop_map = {}\n",
    "    for prop in line:\n",
    "        \n",
    "        propvar = prop.split('=')        \n",
    "        for x in propvar[:-1]:\n",
    "            prop_map[x]= int(propvar[-1])\n",
    "    return prop_map\n",
    "\n",
    "def parse_dumped_coeff_multiple_poc(file_path):\n",
    "    # Parse Multiple Frames. Parse Intra and MV.\n",
    "    f = open(file_path, 'r')\n",
    "    \n",
    "    tid = -1\n",
    "    PU_all = []\n",
    "    \n",
    "    res_luma_all = cellarray([])\n",
    "    \n",
    "    res_frame_all = cell(1, 3)\n",
    "    #res_frame_all[1] = struct('x', cellarray([[]]), 'y', cellarray([[]]), 'w', cellarray([[]]), 'residual',\n",
    "    #                          cellarray([[]]))\n",
    "    #res_frame_all[2] = struct('x', cellarray([[]]), 'y', cellarray([[]]), 'w', cellarray([[]]), 'residual',\n",
    "    #                          cellarray([[]]))\n",
    "    #res_frame_all[3] = struct('x', cellarray([[]]), 'y', cellarray([[]]), 'w', cellarray([[]]), 'residual',\n",
    "    #                          cellarray([[]]))\n",
    "    PU_frame_all= []\n",
    "    #= struct('intra', cellarray([[]]), 'x', cellarray([[]]), 'y', cellarray([[]]), 'w', cellarray([[]]),\n",
    "    #                      'h', cellarray([[]]), 'mv_x', cellarray([[]]), 'mv_y', cellarray([[]]), 't', cellarray([[]]),\n",
    "    #                      't_r', cellarray([[]]), 'luma_mode', cellarray([[]]))\n",
    "    \n",
    "   \n",
    "    import re\n",
    "    for line in f:  \n",
    "  \n",
    "\n",
    "        # Judge whether the line starts with one of the keywords.\n",
    "        line_segments = re.split(r':|,| ',line.replace('\\n',''))\n",
    "        #print(line_segments)\n",
    "        line_segments = [x for x in line_segments if len(x) > 0]\n",
    "        #print(line_segments)\n",
    "        if (len(line_segments) == 0):\n",
    "            continue\n",
    "        if 'coeff' == line_segments[0].lower():\n",
    "            nums = list(map(int, line_segments[1:]))          \n",
    "            \n",
    "            qper = nums[0]\n",
    "            \n",
    "            qrem = nums[1]\n",
    "            \n",
    "            w = nums[2]\n",
    "            \n",
    "            lst = nums[3]\n",
    "            \n",
    "            n = w*w\n",
    "            \n",
    "            if len(nums) != 4 + 4*n:\n",
    "                print('Last line reached!')\n",
    "                break\n",
    "            scaling = nums[4:4 + n];\n",
    "            levels = nums[4 + n:4 + 2 * n]            \n",
    "            \n",
    "            coeffs = nums[4 + 2 * n + 1:4 + 2 * n + n]\n",
    "            residuals = nums[4 + 2 * n + n + 1:4 + 2 * n + n + n]\n",
    "            \n",
    "            res_frame_all[tid].w = w\n",
    "            \n",
    "            res_frame_all[tid].residual = residuals\n",
    "            \n",
    "            if all(levels == 0):\n",
    "                #                 fprintf('Encountering an all-zero TU!\\n');\n",
    "                assert_(all(coeffs == 0) and all(residuals == 0),\n",
    "                        'A TU with all zero scalings has non zero coeffs & residuals')\n",
    "            tid = -1\n",
    "        \n",
    "        elif line_segments[0].lower() == 'tu':\n",
    "            nums = list(map(int, line_segments[1:]))          \n",
    "            \n",
    "            x = nums[0]\n",
    "            \n",
    "            y = nums[1]\n",
    "            \n",
    "            text = nums[2]\n",
    "            \n",
    "            intra = nums[3]\n",
    "            \n",
    "            #                 x, y, text, intra);\n",
    "            # Initialize a TU\n",
    "            res_struct = struct('x', cellarray([x]), 'y', cellarray([y]), 'w', cellarray([[]]), 'residual',\n",
    "                                cellarray([[]]))\n",
    "            \n",
    "            tid = builtins.max(text, 1)\n",
    "            \n",
    "            res_frame_all[tid] = res_struct\n",
    "            \n",
    "        elif line_segments[0].lower() == 'intra':\n",
    "            prop_map = parse_prop(line_segments[1:])\n",
    "            PU_frame = struct('intra', cellarray([1]), 'x', cellarray([prop_map['x']]), 'y',\n",
    "                              cellarray([prop_map['y']]), 'w', cellarray([prop_map['w']]), 'h',\n",
    "                              cellarray([prop_map['h']]), 'mv_x', cellarray([[]]), 'mv_y', cellarray([[]]), 't',\n",
    "                              cellarray([prop_map['t']]), 't_r', cellarray([[]]), 'luma_mode',\n",
    "                              cellarray([prop_map['luma_mode']]))\n",
    "            #print(PU_frame_all)\n",
    "            PU_frame_all.append(PU_frame)\n",
    "        elif line_segments[0].lower() == 'mv':\n",
    "            prop_map = parse_prop(line_segments[1:])\n",
    "            PU_frame = struct('intra', cellarray([0]), 'x', cellarray([prop_map['x']]), 'y',\n",
    "                              cellarray([prop_map['y']]), 'w', cellarray([prop_map['w']]), 'h',\n",
    "                              cellarray([prop_map['h']]), 'mv_x', cellarray([prop_map['mv_x']]), 'mv_y',\n",
    "                              cellarray([prop_map['mv_y']]), 't', cellarray([prop_map['t']]), 't_r',\n",
    "                              cellarray([prop_map['t_r']]), 'luma_mode', cellarray([[]]))\n",
    "            PU_frame_all.append(PU_frame)\n",
    "        elif line_segments[0].lower() == 'poc':\n",
    "            print('POC found! Start a new frame!\\n')\n",
    "            res_luma_all[length(res_luma_all) + 1] = res_frame_all[1]\n",
    "            PU_all.append(PU_frame_all)\n",
    "            res_frame_all = cell(1, 3)\n",
    "            #res_frame_all[1] = struct('x', cellarray([[]]), 'y', cellarray([[]]), 'w', cellarray([[]]),\n",
    "            #                          'residual', cellarray([[]]))\n",
    "            #res_frame_all[2] = struct('x', cellarray([[]]), 'y', cellarray([[]]), 'w', cellarray([[]]),\n",
    "            #                          'residual', cellarray([[]]))\n",
    "            #res_frame_all[3] = struct('x', cellarray([[]]), 'y', cellarray([[]]), 'w', cellarray([[]]),\n",
    "            #                          'residual', cellarray([[]]))\n",
    "            PU_frame_all = []#struct('intra', cellarray([[]]), 'x', cellarray([[]]), 'y', cellarray([[]]),\n",
    "                             #     'w', cellarray([[]]), 'h', cellarray([[]]), 'mv_x', cellarray([[]]),\n",
    "                             #     'mv_y', cellarray([[]]), 't', cellarray([[]]), 't_r', cellarray([[]]),\n",
    "                             #     'luma_mode', cellarray([[]]))\n",
    "        else:\n",
    "            print('Unparsed statement: %s\\n' % line)        \n",
    "\n",
    "    f.close()\n",
    "    return PU_all, res_luma_all"
   ]
  },
  {
   "cell_type": "code",
   "execution_count": 90,
   "metadata": {},
   "outputs": [
    {
     "name": "stdout",
     "output_type": "stream",
     "text": [
      "Unparsed statement: HM software: Decoder Version [11.0][Windows][VS 1800][32 bit] \n",
      "\n",
      "\n",
      "POC found! Start a new frame!\n",
      "\n",
      "POC found! Start a new frame!\n",
      "\n",
      "POC found! Start a new frame!\n",
      "\n",
      "POC found! Start a new frame!\n",
      "\n",
      "POC found! Start a new frame!\n",
      "\n",
      "POC found! Start a new frame!\n",
      "\n",
      "POC found! Start a new frame!\n",
      "\n",
      "POC found! Start a new frame!\n",
      "\n",
      "Unparsed statement:  Total Time:        1.295 sec.\n",
      "\n",
      "\n"
     ]
    }
   ],
   "source": [
    "PU_all, res_luma_all = parse_dumped_coeff_multiple_poc('C:\\\\Work\\\\HITSSuperResolution\\\\fast_code_release\\\\..\\\\temp_data\\\\calendar_352x240_8\\\\calendar_352x240_8_dump.txt')"
   ]
  },
  {
   "cell_type": "code",
   "execution_count": 28,
   "metadata": {},
   "outputs": [],
   "source": [
    "string = 'Intra: t=0 x=0 y=0 w=h=4 luma_mode=0\\n'"
   ]
  },
  {
   "cell_type": "code",
   "execution_count": 32,
   "metadata": {},
   "outputs": [
    {
     "data": {
      "text/plain": [
       "['Intra', '', 't=0', 'x=0', 'y=0', 'w=h=4', 'luma_mode=0\\n']"
      ]
     },
     "execution_count": 32,
     "metadata": {},
     "output_type": "execute_result"
    }
   ],
   "source": [
    "import re\n",
    "re.split(r':|,| ',string)"
   ]
  },
  {
   "cell_type": "code",
   "execution_count": 97,
   "metadata": {},
   "outputs": [
    {
     "data": {
      "text/plain": [
       "cellarray([[1]], dtype=object)"
      ]
     },
     "execution_count": 97,
     "metadata": {},
     "output_type": "execute_result"
    }
   ],
   "source": [
    "PU_all[0][0].intra"
   ]
  },
  {
   "cell_type": "code",
   "execution_count": 55,
   "metadata": {},
   "outputs": [
    {
     "data": {
      "text/plain": [
       "2"
      ]
     },
     "execution_count": 55,
     "metadata": {},
     "output_type": "execute_result"
    }
   ],
   "source": [
    "p.a"
   ]
  },
  {
   "cell_type": "code",
   "execution_count": 63,
   "metadata": {},
   "outputs": [
    {
     "data": {
      "text/plain": [
       "<function max>"
      ]
     },
     "execution_count": 63,
     "metadata": {},
     "output_type": "execute_result"
    }
   ],
   "source": [
    "builtins.max\n"
   ]
  },
  {
   "cell_type": "code",
   "execution_count": 68,
   "metadata": {},
   "outputs": [
    {
     "ename": "NameError",
     "evalue": "name 'res_frame_all' is not defined",
     "output_type": "error",
     "traceback": [
      "\u001b[1;31m---------------------------------------------------------------------------\u001b[0m",
      "\u001b[1;31mNameError\u001b[0m                                 Traceback (most recent call last)",
      "\u001b[1;32m<ipython-input-68-618ae33f29e6>\u001b[0m in \u001b[0;36m<module>\u001b[1;34m\u001b[0m\n\u001b[1;32m----> 1\u001b[1;33m \u001b[0mres_frame_all\u001b[0m\u001b[1;33m\u001b[0m\u001b[1;33m\u001b[0m\u001b[0m\n\u001b[0m",
      "\u001b[1;31mNameError\u001b[0m: name 'res_frame_all' is not defined"
     ]
    }
   ],
   "source": [
    "res_frame_all"
   ]
  },
  {
   "cell_type": "code",
   "execution_count": 73,
   "metadata": {},
   "outputs": [
    {
     "data": {
      "text/plain": [
       "4"
      ]
     },
     "execution_count": 73,
     "metadata": {},
     "output_type": "execute_result"
    }
   ],
   "source": [
    "len('aaaa')"
   ]
  },
  {
   "cell_type": "code",
   "execution_count": null,
   "metadata": {},
   "outputs": [],
   "source": []
  }
 ],
 "metadata": {
  "kernelspec": {
   "display_name": "Python 3",
   "language": "python",
   "name": "python3"
  },
  "language_info": {
   "codemirror_mode": {
    "name": "ipython",
    "version": 3
   },
   "file_extension": ".py",
   "mimetype": "text/x-python",
   "name": "python",
   "nbconvert_exporter": "python",
   "pygments_lexer": "ipython3",
   "version": "3.7.4"
  }
 },
 "nbformat": 4,
 "nbformat_minor": 2
}
